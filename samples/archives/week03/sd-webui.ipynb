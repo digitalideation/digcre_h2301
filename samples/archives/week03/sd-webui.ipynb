{
 "cells": [
  {
   "cell_type": "markdown",
   "id": "56730971-1dd2-4c4f-9435-1c511e80fa50",
   "metadata": {},
   "source": [
    "# SD-WEBUI"
   ]
  },
  {
   "cell_type": "markdown",
   "id": "dad0c2ee-ef8e-4bf2-91e0-a6804e74ad68",
   "metadata": {
    "jp-MarkdownHeadingCollapsed": true
   },
   "source": [
    "## Install packages"
   ]
  },
  {
   "cell_type": "markdown",
   "id": "3a9b4506-b307-452e-b7dd-ff05d7aea6fe",
   "metadata": {},
   "source": [
    "Check GPU + Cuda version"
   ]
  },
  {
   "cell_type": "code",
   "execution_count": null,
   "id": "9010dc34-3e8a-4dd5-8c2b-99881bac0230",
   "metadata": {},
   "outputs": [],
   "source": [
    "!nvidia-smi"
   ]
  },
  {
   "cell_type": "markdown",
   "id": "5f079007-7a96-49b4-a591-e0f8693b36ff",
   "metadata": {},
   "source": [
    "Install xformers to speed up inference"
   ]
  },
  {
   "cell_type": "code",
   "execution_count": null,
   "id": "73a3282c-24ac-4871-a3f6-a93fe204a4e3",
   "metadata": {
    "scrolled": true
   },
   "outputs": [],
   "source": [
    "!pip install xformers huggingface-hub"
   ]
  },
  {
   "cell_type": "markdown",
   "id": "1e67be19-0a80-4715-a9af-29da96d79c7e",
   "metadata": {},
   "source": [
    "Downgrade torchvision"
   ]
  },
  {
   "cell_type": "code",
   "execution_count": null,
   "id": "b94aa459-2d7f-4944-b055-415fb6a33be4",
   "metadata": {
    "scrolled": true
   },
   "outputs": [],
   "source": [
    "!pip install torchvision==0.15.2+cu117 --index-url https://download.pytorch.org/whl/cu117"
   ]
  },
  {
   "cell_type": "markdown",
   "id": "d9d227f0-8109-4abf-bf32-ef4d8623d121",
   "metadata": {},
   "source": [
    "Check if GPU is working"
   ]
  },
  {
   "cell_type": "code",
   "execution_count": null,
   "id": "de6720a9-5924-4d0c-b165-d88147179dd9",
   "metadata": {},
   "outputs": [],
   "source": [
    "import torch\n",
    "torch.cuda.is_available()"
   ]
  },
  {
   "cell_type": "markdown",
   "id": "5024c415-ef57-41fb-8379-fc3151f96bb3",
   "metadata": {
    "jp-MarkdownHeadingCollapsed": true
   },
   "source": [
    "## Declare var + functions"
   ]
  },
  {
   "cell_type": "code",
   "execution_count": null,
   "id": "45c14b3e-a73d-45d5-aa28-3d652c95b0de",
   "metadata": {},
   "outputs": [],
   "source": [
    "import os\n",
    "import git\n",
    "import shutil\n",
    "from pathlib import Path\n",
    "\n",
    "# Home path (only works on Linux)\n",
    "# https://stackoverflow.com/a/58988310\n",
    "home_dir = Path(os.readlink('/proc/%s/cwd' % os.environ['JPY_PARENT_PID']))\n",
    "\n",
    "# SD paths\n",
    "sd_dir = home_dir / 'stable-diffusion-webui'\n",
    "sd_model_dir = sd_dir / 'models'\n",
    "sd_extensions_dir = sd_dir / 'extensions'"
   ]
  },
  {
   "cell_type": "code",
   "execution_count": null,
   "id": "8ae7c407-022a-47a5-84be-88bd59235b7a",
   "metadata": {},
   "outputs": [],
   "source": [
    "# Clone a repo\n",
    "def clone_repo(git_url, target_dir):\n",
    "    \n",
    "    # Extract repo name and create path\n",
    "    repo_name = git_url.split('/')[-1]\n",
    "\n",
    "    # Create path\n",
    "    repo_dir = target_dir / repo_name\n",
    "\n",
    "    # Clone if does not exist\n",
    "    if not repo_dir.exists():\n",
    "        git.Repo.clone_from(git_url, repo_dir)"
   ]
  },
  {
   "cell_type": "markdown",
   "id": "1330da86-f4fe-491b-b578-050cec11558b",
   "metadata": {},
   "source": [
    "**⚠️** Warning: only run the next cell if you want to delete the existing copy of sd-webui **⚠️**"
   ]
  },
  {
   "cell_type": "code",
   "execution_count": null,
   "id": "c8e39014-541b-49e7-be30-06cf9524b504",
   "metadata": {},
   "outputs": [],
   "source": [
    "answer = input(\"-> Are you sure you want to delete 'stable-diffusion-webui' [y | n]: \")\n",
    "if answer == 'y':\n",
    "    if sd_dir.exists():\n",
    "        shutil.rmtree(sd_dir)\n",
    "        print('Folder deleted')\n",
    "    else:\n",
    "        print('Folder not found')\n",
    "else:\n",
    "    print('Skipping')"
   ]
  },
  {
   "cell_type": "markdown",
   "id": "04064c0d-496a-43c0-8c1e-d059a1e93913",
   "metadata": {
    "jp-MarkdownHeadingCollapsed": true
   },
   "source": [
    "## Install SD REPO"
   ]
  },
  {
   "cell_type": "markdown",
   "id": "3b6846ed-7b44-4ddd-9971-9e01cb65efe4",
   "metadata": {},
   "source": [
    "Clone and cd into repo"
   ]
  },
  {
   "cell_type": "code",
   "execution_count": null,
   "id": "c42bf2a9-790e-45b9-9b0c-59bcd3cc73cb",
   "metadata": {},
   "outputs": [],
   "source": [
    "clone_repo('https://github.com/AUTOMATIC1111/stable-diffusion-webui', home_dir)"
   ]
  },
  {
   "cell_type": "markdown",
   "id": "853ee857-a85e-4354-9bf1-cfc158552e87",
   "metadata": {},
   "source": [
    "#### 1. Manually modify the file `stable-diffusion/webui.sh`\n",
    "Change `use_venv=1` to `use_venv=0`\n",
    "#### 2. Manually modify the file `stable-diffusion/webui-user.sh`\n",
    "Dont forget to uncomment the line!! (delete the `#`)  \n",
    "change `#export COMMANDLINE_ARGS=\"\"` to  `export COMMANDLINE_ARGS=\"--xformers --share\"`"
   ]
  },
  {
   "cell_type": "markdown",
   "id": "7f61630d-3c7c-4194-a39d-e3e2a3125333",
   "metadata": {
    "jp-MarkdownHeadingCollapsed": true
   },
   "source": [
    "## Install extensions"
   ]
  },
  {
   "cell_type": "code",
   "execution_count": null,
   "id": "b06af14d-ee15-482c-82ba-1c27c42cbb16",
   "metadata": {},
   "outputs": [],
   "source": [
    "# Use urls without the .git\n",
    "git_urls = {\n",
    "    'https://github.com/zanllp/sd-webui-infinite-image-browsing',\n",
    "    'https://github.com/Mikubill/sd-webui-controlnet'\n",
    "}\n",
    "\n",
    "# Iterate through git repos and clone them\n",
    "for url in git_urls:\n",
    "    clone_repo(url, sd_extensions_dir)"
   ]
  },
  {
   "cell_type": "markdown",
   "id": "05d7a9da-4747-4ff7-8a73-5cfc135c66a6",
   "metadata": {
    "jp-MarkdownHeadingCollapsed": true
   },
   "source": [
    "## Download models"
   ]
  },
  {
   "cell_type": "code",
   "execution_count": null,
   "id": "05eb4405-c5bc-45cf-8f2f-f529c18170c1",
   "metadata": {
    "collapsed": true,
    "jupyter": {
     "outputs_hidden": true
    },
    "scrolled": true
   },
   "outputs": [],
   "source": [
    "import huggingface_hub\n",
    "\n",
    "# SD models\n",
    "local_dir = sd_model_dir / 'Stable-diffusion'\n",
    "\n",
    "# SD 1.5\n",
    "repo_id='runwayml/stable-diffusion-v1-5'\n",
    "filename = 'v1-5-pruned-emaonly.safetensors'\n",
    "huggingface_hub.hf_hub_download(\n",
    "    repo_id=repo_id,\n",
    "    filename=filename,\n",
    "    local_dir=local_dir\n",
    ")\n",
    "\n",
    "# SDXL\n",
    "repo_id='stabilityai/stable-diffusion-xl-base-1.0'\n",
    "# Base model\n",
    "filename = 'sd_xl_base_1.0.safetensors'\n",
    "huggingface_hub.hf_hub_download(\n",
    "    repo_id=repo_id,\n",
    "    filename=filename,\n",
    "    local_dir=local_dir\n",
    ")\n",
    "# VAE\n",
    "filename = 'sd_xl_base_1.0_0.9vae.safetensors'\n",
    "huggingface_hub.hf_hub_download(\n",
    "    repo_id=repo_id,\n",
    "    filename=filename,\n",
    "    local_dir=local_dir\n",
    ")\n",
    "\n",
    "# ControlNet (There's a LOT here, hopefully we have enough disk space 🤞)\n",
    "local_dir = sd_model_dir / 'ControlNet'\n",
    "\n",
    "# ControlNet 1.1 \n",
    "huggingface_hub.snapshot_download(\n",
    "    repo_id='lllyasviel/ControlNet-v1-1',\n",
    "    allow_patterns='*.pth',\n",
    "    local_dir=local_dir\n",
    ")\n",
    "# ControlNet XL\n",
    "huggingface_hub.snapshot_download(\n",
    "    repo_id='lllyasviel/sd_control_collection',\n",
    "    local_dir=local_dir\n",
    ")"
   ]
  },
  {
   "cell_type": "markdown",
   "id": "88cf58a2-e13f-4f8a-9ef6-ee7717640e66",
   "metadata": {
    "jp-MarkdownHeadingCollapsed": true
   },
   "source": [
    "## Run UI"
   ]
  },
  {
   "cell_type": "code",
   "execution_count": null,
   "id": "4615284e-c8eb-4f01-8239-1f4e5e0f0184",
   "metadata": {},
   "outputs": [],
   "source": [
    "# Change dir\n",
    "os.chdir(sd_dir)"
   ]
  },
  {
   "cell_type": "code",
   "execution_count": null,
   "id": "89641969-69a7-4742-8590-291efb2086e9",
   "metadata": {
    "collapsed": true,
    "jupyter": {
     "outputs_hidden": true,
     "source_hidden": true
    },
    "scrolled": true
   },
   "outputs": [],
   "source": [
    "!./webui.sh"
   ]
  }
 ],
 "metadata": {
  "kernelspec": {
   "display_name": "Python 3 (ipykernel)",
   "language": "python",
   "name": "python3"
  },
  "language_info": {
   "codemirror_mode": {
    "name": "ipython",
    "version": 3
   },
   "file_extension": ".py",
   "mimetype": "text/x-python",
   "name": "python",
   "nbconvert_exporter": "python",
   "pygments_lexer": "ipython3",
   "version": "3.11.5"
  }
 },
 "nbformat": 4,
 "nbformat_minor": 5
}
