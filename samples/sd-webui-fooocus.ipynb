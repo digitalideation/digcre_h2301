{
 "cells": [
  {
   "cell_type": "markdown",
   "id": "56730971-1dd2-4c4f-9435-1c511e80fa50",
   "metadata": {},
   "source": [
    "Notebook to run sd-webui and Fooocus on hslu gpu hub"
   ]
  },
  {
   "cell_type": "markdown",
   "id": "dad0c2ee-ef8e-4bf2-91e0-a6804e74ad68",
   "metadata": {
    "jp-MarkdownHeadingCollapsed": true
   },
   "source": [
    "## Install packages (run each time)"
   ]
  },
  {
   "cell_type": "markdown",
   "id": "3a9b4506-b307-452e-b7dd-ff05d7aea6fe",
   "metadata": {},
   "source": [
    "Check GPU + Cuda version"
   ]
  },
  {
   "cell_type": "code",
   "execution_count": null,
   "id": "9010dc34-3e8a-4dd5-8c2b-99881bac0230",
   "metadata": {},
   "outputs": [],
   "source": [
    "!nvidia-smi"
   ]
  },
  {
   "cell_type": "markdown",
   "id": "8091090f-1431-4e6b-bb34-069e5992ab43",
   "metadata": {},
   "source": [
    "Upgrade httpx"
   ]
  },
  {
   "cell_type": "code",
   "execution_count": null,
   "id": "eb3c8215-0d28-4ff5-8f44-32b224705153",
   "metadata": {},
   "outputs": [],
   "source": [
    "!pip install httpx==0.24.1"
   ]
  },
  {
   "cell_type": "markdown",
   "id": "5f079007-7a96-49b4-a591-e0f8693b36ff",
   "metadata": {},
   "source": [
    "Install xformers to speed up inference"
   ]
  },
  {
   "cell_type": "code",
   "execution_count": null,
   "id": "73a3282c-24ac-4871-a3f6-a93fe204a4e3",
   "metadata": {
    "scrolled": true
   },
   "outputs": [],
   "source": [
    "!pip install xformers==0.0.22 huggingface-hub"
   ]
  },
  {
   "cell_type": "markdown",
   "id": "1e67be19-0a80-4715-a9af-29da96d79c7e",
   "metadata": {},
   "source": [
    "Downgrade torchvision"
   ]
  },
  {
   "cell_type": "code",
   "execution_count": null,
   "id": "b94aa459-2d7f-4944-b055-415fb6a33be4",
   "metadata": {
    "scrolled": true
   },
   "outputs": [],
   "source": [
    "!pip install torch==2.0.1+cu117 torchvision==0.15.2+cu117 --index-url https://download.pytorch.org/whl/cu117"
   ]
  },
  {
   "cell_type": "markdown",
   "id": "d9d227f0-8109-4abf-bf32-ef4d8623d121",
   "metadata": {},
   "source": [
    "Check if GPU is working"
   ]
  },
  {
   "cell_type": "code",
   "execution_count": null,
   "id": "de6720a9-5924-4d0c-b165-d88147179dd9",
   "metadata": {},
   "outputs": [],
   "source": [
    "import torch\n",
    "torch.cuda.is_available()"
   ]
  },
  {
   "cell_type": "markdown",
   "id": "5024c415-ef57-41fb-8379-fc3151f96bb3",
   "metadata": {
    "jp-MarkdownHeadingCollapsed": true
   },
   "source": [
    "## Declare var + functions (run each time)"
   ]
  },
  {
   "cell_type": "code",
   "execution_count": null,
   "id": "45c14b3e-a73d-45d5-aa28-3d652c95b0de",
   "metadata": {},
   "outputs": [],
   "source": [
    "import os\n",
    "import git\n",
    "import shutil\n",
    "from pathlib import Path\n",
    "\n",
    "# Home path (only works on Linux)\n",
    "# https://stackoverflow.com/a/58988310\n",
    "home_dir = Path(os.readlink('/proc/%s/cwd' % os.environ['JPY_PARENT_PID']))\n",
    "\n",
    "# Paths\n",
    "sd_dir = home_dir / 'stable-diffusion-webui'\n",
    "sd_model_dir = sd_dir / 'models'\n",
    "sd_extensions_dir = sd_dir / 'extensions'\n",
    "fooocus_dir = home_dir / 'Fooocus'\n",
    "fooocus_api_dir = home_dir / 'Fooocus-API'"
   ]
  },
  {
   "cell_type": "code",
   "execution_count": null,
   "id": "8ae7c407-022a-47a5-84be-88bd59235b7a",
   "metadata": {},
   "outputs": [],
   "source": [
    "# Clone a repo\n",
    "def clone_repo(git_url, target_dir):\n",
    "    \n",
    "    # Extract repo name and create path\n",
    "    repo_name = git_url.split('/')[-1]\n",
    "\n",
    "    # Create path\n",
    "    repo_dir = target_dir / repo_name\n",
    "\n",
    "    # Clone if does not exist\n",
    "    if not repo_dir.exists():\n",
    "        git.Repo.clone_from(git_url, repo_dir)"
   ]
  },
  {
   "cell_type": "markdown",
   "id": "a6881fc7-384c-4167-8ddf-9abd92c7213a",
   "metadata": {
    "jp-MarkdownHeadingCollapsed": true
   },
   "source": [
    "# FOOOCUS"
   ]
  },
  {
   "cell_type": "markdown",
   "id": "d28c68bc-78c5-4d00-a420-02c1becdcef8",
   "metadata": {},
   "source": [
    "## Install Fooocus (run once)"
   ]
  },
  {
   "cell_type": "markdown",
   "id": "e0a8d420-c60d-4a61-9b4a-113eacff7c60",
   "metadata": {},
   "source": [
    "**⚠️** Warning: only run the next cell if you want to delete the existing copy of Fooocus **⚠️**"
   ]
  },
  {
   "cell_type": "code",
   "execution_count": null,
   "id": "f4d66d00-d659-412f-b15b-15f35022df9c",
   "metadata": {},
   "outputs": [],
   "source": [
    "answer = input(\"-> Are you sure you want to delete 'Fooocus' [y | n]: \")\n",
    "if answer == 'y':\n",
    "    if fooocus_dir.exists():\n",
    "        shutil.rmtree(fooocus_dir)\n",
    "        print('Folder deleted')\n",
    "    else:\n",
    "        print('Folder not found')\n",
    "else:\n",
    "    print('Skipping')"
   ]
  },
  {
   "cell_type": "markdown",
   "id": "523beb6c-cb13-42dc-bbbc-492bc42069a7",
   "metadata": {},
   "source": [
    "Clone repo"
   ]
  },
  {
   "cell_type": "code",
   "execution_count": null,
   "id": "3cfcf1e0-811d-4829-b712-e9197d574b11",
   "metadata": {},
   "outputs": [],
   "source": [
    "clone_repo('https://github.com/lllyasviel/Fooocus', home_dir)"
   ]
  },
  {
   "cell_type": "markdown",
   "id": "8395363f-4cde-4b1f-9891-d7d8d986dfaa",
   "metadata": {},
   "source": [
    "Start Fooocus once to initialize all files, generate a few image and stop the execution of the cell."
   ]
  },
  {
   "cell_type": "code",
   "execution_count": null,
   "id": "523dbb1d-4121-401f-aeed-09163568e906",
   "metadata": {
    "scrolled": true
   },
   "outputs": [],
   "source": [
    "!python {fooocus_dir}/entry_with_update.py --share"
   ]
  },
  {
   "cell_type": "markdown",
   "id": "c535d730-edd7-4d98-97a5-63a2a7e1a6d4",
   "metadata": {},
   "source": [
    "#### Manually modify the file `Fooocus/user_path_config.txt`\n",
    "Change\n",
    "```\n",
    "    \"modelfile_path\": \"/home/jovyan/Fooocus/models/checkpoints\",\n",
    "    \"lorafile_path\": \"/home/jovyan/Fooocus/models/loras\",\n",
    "```\n",
    "to \n",
    "```\n",
    "    \"modelfile_path\": \"/home/jovyan/stable-diffusion-webui/models/Stable-diffusion/\",\n",
    "    \"lorafile_path\": \"/home/jovyan/stable-diffusion-webui/models/Lora\",\n",
    "```\n",
    "and \n",
    "```\n",
    "    \"controlnet_models_path\": \"/home/jovyan/Fooocus/models/controlnet\",\n",
    "```\n",
    "to\n",
    "```\n",
    "    \"controlnet_models_path\": \"/home/jovyan/stable-diffusion-webui/ControlNet\",\n",
    "```\n",
    "Your home path might be different than `/home/jovyan`"
   ]
  },
  {
   "cell_type": "markdown",
   "id": "4fc8d124-7b02-4001-82db-d226de240e4b",
   "metadata": {
    "jp-MarkdownHeadingCollapsed": true
   },
   "source": [
    "## 📍 Run Fooocus"
   ]
  },
  {
   "cell_type": "code",
   "execution_count": null,
   "id": "41d824df-9237-4df2-b8d7-8d49ae7e6bd6",
   "metadata": {},
   "outputs": [],
   "source": [
    "!python {fooocus_dir}/entry_with_update.py --share"
   ]
  },
  {
   "cell_type": "code",
   "execution_count": null,
   "id": "39d4236c-099f-4d6b-9467-53dd9debc01b",
   "metadata": {},
   "outputs": [],
   "source": [
    "clone_repo('https://github.com/konieshadow/Fooocus-API', home_dir)"
   ]
  },
  {
   "cell_type": "markdown",
   "id": "b87df6a1-78e0-4abb-980b-337858b2130a",
   "metadata": {
    "jp-MarkdownHeadingCollapsed": true
   },
   "source": [
    "# SD-WEBUI"
   ]
  },
  {
   "cell_type": "markdown",
   "id": "04064c0d-496a-43c0-8c1e-d059a1e93913",
   "metadata": {},
   "source": [
    "## Install sd-webui (run once)"
   ]
  },
  {
   "cell_type": "markdown",
   "id": "1330da86-f4fe-491b-b578-050cec11558b",
   "metadata": {},
   "source": [
    "**⚠️** Warning: only run the next cell if you want to delete the existing copy of sd-webui **⚠️**"
   ]
  },
  {
   "cell_type": "code",
   "execution_count": null,
   "id": "c8e39014-541b-49e7-be30-06cf9524b504",
   "metadata": {},
   "outputs": [],
   "source": [
    "answer = input(\"-> Are you sure you want to delete 'stable-diffusion-webui' [y | n]: \")\n",
    "if answer == 'y':\n",
    "    if sd_dir.exists():\n",
    "        shutil.rmtree(sd_dir)\n",
    "        print('Folder deleted')\n",
    "    else:\n",
    "        print('Folder not found')\n",
    "else:\n",
    "    print('Skipping')"
   ]
  },
  {
   "cell_type": "markdown",
   "id": "3b6846ed-7b44-4ddd-9971-9e01cb65efe4",
   "metadata": {},
   "source": [
    "Clone and cd into repo"
   ]
  },
  {
   "cell_type": "code",
   "execution_count": null,
   "id": "c42bf2a9-790e-45b9-9b0c-59bcd3cc73cb",
   "metadata": {},
   "outputs": [],
   "source": [
    "clone_repo('https://github.com/AUTOMATIC1111/stable-diffusion-webui', home_dir)"
   ]
  },
  {
   "cell_type": "markdown",
   "id": "853ee857-a85e-4354-9bf1-cfc158552e87",
   "metadata": {},
   "source": [
    "#### 1. Manually modify the file `stable-diffusion/webui.sh`\n",
    "Change `use_venv=1` to `use_venv=0`\n",
    "#### 2. Manually modify the file `stable-diffusion/webui-user.sh`\n",
    "Dont forget to uncomment the line!! (delete the `#`)  \n",
    "change `#export COMMANDLINE_ARGS=\"\"` to  `export COMMANDLINE_ARGS=\"--xformers --share\"`"
   ]
  },
  {
   "cell_type": "markdown",
   "id": "4e695604-8d9b-4dac-82ec-c1d9f4d2aa61",
   "metadata": {
    "jp-MarkdownHeadingCollapsed": true
   },
   "source": [
    "## Download models (run whenever needed)"
   ]
  },
  {
   "cell_type": "code",
   "execution_count": null,
   "id": "05eb4405-c5bc-45cf-8f2f-f529c18170c1",
   "metadata": {
    "scrolled": true
   },
   "outputs": [],
   "source": [
    "import huggingface_hub\n",
    "\n",
    "# SD models\n",
    "local_dir = sd_model_dir / 'Stable-diffusion'\n",
    "\n",
    "# SD 1.5\n",
    "repo_id='runwayml/stable-diffusion-v1-5'\n",
    "filename = 'v1-5-pruned-emaonly.safetensors'\n",
    "huggingface_hub.hf_hub_download(\n",
    "    repo_id=repo_id,\n",
    "    filename=filename,\n",
    "    local_dir=local_dir\n",
    ")\n",
    "\n",
    "# SDXL\n",
    "repo_id='stabilityai/stable-diffusion-xl-base-1.0'\n",
    "# Base model\n",
    "filename = 'sd_xl_base_1.0.safetensors'\n",
    "huggingface_hub.hf_hub_download(\n",
    "    repo_id=repo_id,\n",
    "    filename=filename,\n",
    "    local_dir=local_dir\n",
    ")\n",
    "# VAE\n",
    "filename = 'sd_xl_base_1.0_0.9vae.safetensors'\n",
    "huggingface_hub.hf_hub_download(\n",
    "    repo_id=repo_id,\n",
    "    filename=filename,\n",
    "    local_dir=local_dir\n",
    ")\n",
    "\n",
    "# ControlNet (There's a LOT here, hopefully we have enough disk space 🤞)\n",
    "local_dir = sd_model_dir / 'ControlNet'\n",
    "\n",
    "# ControlNet 1.1 \n",
    "huggingface_hub.snapshot_download(\n",
    "    repo_id='lllyasviel/ControlNet-v1-1',\n",
    "    allow_patterns='*.pth',\n",
    "    local_dir=local_dir\n",
    ")\n",
    "# ControlNet XL\n",
    "huggingface_hub.snapshot_download(\n",
    "    repo_id='lllyasviel/sd_control_collection',\n",
    "    local_dir=local_dir\n",
    ")"
   ]
  },
  {
   "cell_type": "markdown",
   "id": "7f61630d-3c7c-4194-a39d-e3e2a3125333",
   "metadata": {
    "jp-MarkdownHeadingCollapsed": true
   },
   "source": [
    "## Install sd-webui extensions (run whenever needed)"
   ]
  },
  {
   "cell_type": "markdown",
   "id": "1310dd69-e2f6-4729-b8b4-09cef2676b36",
   "metadata": {},
   "source": [
    "You can find extensions via the UI then copy paste their repo here"
   ]
  },
  {
   "cell_type": "code",
   "execution_count": null,
   "id": "b06af14d-ee15-482c-82ba-1c27c42cbb16",
   "metadata": {},
   "outputs": [],
   "source": [
    "# Use urls without the .git\n",
    "git_urls = {\n",
    "    'https://github.com/zanllp/sd-webui-infinite-image-browsing',\n",
    "    'https://github.com/Mikubill/sd-webui-controlnet'\n",
    "}\n",
    "\n",
    "# Iterate through git repos and clone them\n",
    "for url in git_urls:\n",
    "    clone_repo(url, sd_extensions_dir)"
   ]
  },
  {
   "cell_type": "markdown",
   "id": "88cf58a2-e13f-4f8a-9ef6-ee7717640e66",
   "metadata": {},
   "source": [
    "## 📍 Run sd-webui"
   ]
  },
  {
   "cell_type": "code",
   "execution_count": null,
   "id": "89641969-69a7-4742-8590-291efb2086e9",
   "metadata": {
    "scrolled": true
   },
   "outputs": [],
   "source": [
    "!cd {sd_dir} && ./webui.sh"
   ]
  },
  {
   "cell_type": "code",
   "execution_count": null,
   "id": "4001c380-2728-4ad5-9b6c-f4441e11e00a",
   "metadata": {},
   "outputs": [],
   "source": []
  }
 ],
 "metadata": {
  "kernelspec": {
   "display_name": "Python 3 (ipykernel)",
   "language": "python",
   "name": "python3"
  },
  "language_info": {
   "codemirror_mode": {
    "name": "ipython",
    "version": 3
   },
   "file_extension": ".py",
   "mimetype": "text/x-python",
   "name": "python",
   "nbconvert_exporter": "python",
   "pygments_lexer": "ipython3",
   "version": "3.11.5"
  }
 },
 "nbformat": 4,
 "nbformat_minor": 5
}
