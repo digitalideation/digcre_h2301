{
 "cells": [
  {
   "cell_type": "markdown",
   "id": "ecf74805-71d8-4a40-a047-7effb5d0dfea",
   "metadata": {},
   "source": [
    "On HSLU GPUHUB You must use the server template __CVAI admin__"
   ]
  },
  {
   "cell_type": "markdown",
   "id": "5024c415-ef57-41fb-8379-fc3151f96bb3",
   "metadata": {
    "jp-MarkdownHeadingCollapsed": true
   },
   "source": [
    "## Declare var + functions (run each time)"
   ]
  },
  {
   "cell_type": "code",
   "execution_count": null,
   "id": "45c14b3e-a73d-45d5-aa28-3d652c95b0de",
   "metadata": {},
   "outputs": [],
   "source": [
    "import os\n",
    "import git\n",
    "import shutil\n",
    "from pathlib import Path\n",
    "\n",
    "# Home path (only works on Linux)\n",
    "# https://stackoverflow.com/a/58988310\n",
    "home_dir = Path(os.readlink('/proc/%s/cwd' % os.environ['JPY_PARENT_PID']))\n",
    "\n",
    "# Paths\n",
    "sd_dir = home_dir / 'stable-diffusion-webui'\n",
    "sd_model_dir = sd_dir / 'models'\n",
    "comfyui_dir = home_dir / 'ComfyUI'"
   ]
  },
  {
   "cell_type": "code",
   "execution_count": null,
   "id": "8ae7c407-022a-47a5-84be-88bd59235b7a",
   "metadata": {},
   "outputs": [],
   "source": [
    "# Clone a repo\n",
    "def clone_repo(git_url, target_dir):\n",
    "    \n",
    "    # Extract repo name and create path\n",
    "    repo_name = git_url.split('/')[-1]\n",
    "\n",
    "    # Create path\n",
    "    repo_dir = target_dir / repo_name\n",
    "\n",
    "    # Clone if does not exist\n",
    "    if not repo_dir.exists():\n",
    "        git.Repo.clone_from(git_url, repo_dir)\n",
    "    else:\n",
    "        print('Directory exists already, skipping')\n",
    "\n",
    "\n",
    "# Delete a whole dir and it'd content\n",
    "def del_dir(dir):\n",
    "    answer = input(f\"-> Are you sure you want to delete '{dir}' [y | n]: \")\n",
    "    if answer == 'y':\n",
    "        if dir.exists():\n",
    "            shutil.rmtree(dir)\n",
    "            print('Directory deleted')\n",
    "        else:\n",
    "            print('Directory not found')\n",
    "    else:\n",
    "        print('Skipping')"
   ]
  },
  {
   "cell_type": "markdown",
   "id": "30bd12c4-856b-4488-b48d-1d6f4eb85adc",
   "metadata": {
    "jp-MarkdownHeadingCollapsed": true
   },
   "source": [
    "## Clone repo and setup Comfyui (run once)"
   ]
  },
  {
   "cell_type": "markdown",
   "id": "f6494800-67f3-4b98-96fe-98809d21030b",
   "metadata": {},
   "source": [
    "Clone Repo"
   ]
  },
  {
   "cell_type": "code",
   "execution_count": null,
   "id": "ae76836b-55dc-4c4f-b393-600d9bde371f",
   "metadata": {},
   "outputs": [],
   "source": [
    "clone_repo('https://github.com/comfyanonymous/ComfyUI', home_dir)"
   ]
  },
  {
   "cell_type": "markdown",
   "id": "f5ff72be-6072-4c11-9848-ffd8cb511603",
   "metadata": {},
   "source": [
    "### If SD-webui is installed we can use the models from there\n",
    "\n",
    "Show the stable diffusion webui dir:"
   ]
  },
  {
   "cell_type": "code",
   "execution_count": null,
   "id": "1ae5ad46-29d7-4857-a23d-8d4d94ab2605",
   "metadata": {},
   "outputs": [],
   "source": [
    "sd_dir"
   ]
  },
  {
   "cell_type": "markdown",
   "id": "c535d730-edd7-4d98-97a5-63a2a7e1a6d4",
   "metadata": {},
   "source": [
    "Manually modify the file `ComfyUI/extra_model_paths.yaml.example`\n",
    "\n",
    "1) Change `base_path: path/to/stable-diffusion-webui/` with the path from our install (see the value of the var `sd_dir` ⬆️)\n",
    "2) Rename file to `ComfyUI/extra_model_paths.yaml`"
   ]
  },
  {
   "cell_type": "markdown",
   "id": "7af8c51f-3efc-4c1d-b5f6-3136c6a3ded8",
   "metadata": {
    "jp-MarkdownHeadingCollapsed": true
   },
   "source": [
    "## Install packages (run each time)"
   ]
  },
  {
   "cell_type": "code",
   "execution_count": null,
   "id": "962d3c8b-a3e6-4584-87f3-dbcc815a619f",
   "metadata": {},
   "outputs": [],
   "source": [
    "!nvidia-smi"
   ]
  },
  {
   "cell_type": "markdown",
   "id": "7def5877-1ef0-49c1-8c3a-e6c5d03e1f4e",
   "metadata": {},
   "source": [
    "Upgrade pip (not a bad idea :P )"
   ]
  },
  {
   "cell_type": "code",
   "execution_count": null,
   "id": "a285205a-838a-454e-9086-0c5ec28f9399",
   "metadata": {},
   "outputs": [],
   "source": [
    "!pip install --upgrade --quiet pip"
   ]
  },
  {
   "cell_type": "markdown",
   "id": "c9e5b5b1-7464-46d3-a2f7-cce3441d68e3",
   "metadata": {},
   "source": [
    "Install xformers to speed up inference and huggingface-hub"
   ]
  },
  {
   "cell_type": "code",
   "execution_count": null,
   "id": "73a3282c-24ac-4871-a3f6-a93fe204a4e3",
   "metadata": {
    "scrolled": true
   },
   "outputs": [],
   "source": [
    "!pip install --quiet xformers==0.0.22 huggingface-hub"
   ]
  },
  {
   "cell_type": "markdown",
   "id": "33b46726-f414-4c73-9cbb-d24f04e31d59",
   "metadata": {},
   "source": [
    "Install requirements"
   ]
  },
  {
   "cell_type": "code",
   "execution_count": null,
   "id": "43404503-ea25-461d-85c2-c31f18ac6702",
   "metadata": {
    "scrolled": true
   },
   "outputs": [],
   "source": [
    "!pip install --quiet -r {comfyui_dir}/requirements.txt"
   ]
  },
  {
   "cell_type": "markdown",
   "id": "f5106444-bf35-480a-99ab-1210ad141a28",
   "metadata": {},
   "source": [
    "Install torchvision with GPU support"
   ]
  },
  {
   "cell_type": "code",
   "execution_count": null,
   "id": "b94aa459-2d7f-4944-b055-415fb6a33be4",
   "metadata": {
    "scrolled": true
   },
   "outputs": [],
   "source": [
    "!pip install --quiet torch==2.0.1+cu117 torchvision==0.15.2+cu117 --index-url https://download.pytorch.org/whl/cu117"
   ]
  },
  {
   "cell_type": "markdown",
   "id": "94b9787b-5e3f-4fa6-b9d9-cc08ca01fd7d",
   "metadata": {},
   "source": [
    "Check if GPU is working"
   ]
  },
  {
   "cell_type": "code",
   "execution_count": null,
   "id": "de6720a9-5924-4d0c-b165-d88147179dd9",
   "metadata": {
    "scrolled": true
   },
   "outputs": [],
   "source": [
    "import torch\n",
    "torch.cuda.is_available()"
   ]
  },
  {
   "cell_type": "markdown",
   "id": "1f1df9bb-a41c-47f2-a7eb-91738ec3d097",
   "metadata": {},
   "source": [
    "If this does not show `True` you might need to restart the kernel `torch.__version__` should show `2.0.1+cu117`"
   ]
  },
  {
   "cell_type": "code",
   "execution_count": null,
   "id": "0a128a96-d8b7-4dd5-897b-ca074222f596",
   "metadata": {},
   "outputs": [],
   "source": [
    "torch.__version__"
   ]
  },
  {
   "cell_type": "markdown",
   "id": "0342babf-7710-405b-ba6f-c0551234911b",
   "metadata": {},
   "source": [
    "## Install extensions and download models (run once)"
   ]
  },
  {
   "cell_type": "markdown",
   "id": "e17e5408-f767-4572-b80a-66389221d370",
   "metadata": {
    "jp-MarkdownHeadingCollapsed": true
   },
   "source": [
    "### Extensions"
   ]
  },
  {
   "cell_type": "markdown",
   "id": "b8e3a595-9b48-4055-832a-1e20109ba32a",
   "metadata": {},
   "source": [
    "Manager for custom nodes and then some..."
   ]
  },
  {
   "cell_type": "code",
   "execution_count": null,
   "id": "31a70790-4900-40fc-9c81-846512087182",
   "metadata": {},
   "outputs": [],
   "source": [
    "clone_repo('https://github.com/ltdrdata/ComfyUI-Manager', comfyui_dir / 'custom_nodes')"
   ]
  },
  {
   "cell_type": "markdown",
   "id": "c99c28c5-4ed8-4123-8ab7-d14d666de426",
   "metadata": {},
   "source": [
    "ComfyUI-Custom-Scripts"
   ]
  },
  {
   "cell_type": "code",
   "execution_count": null,
   "id": "d5bd2fe7-ca33-4452-a5d7-76d354eaf8b9",
   "metadata": {},
   "outputs": [],
   "source": [
    "clone_repo('https://github.com/pythongosssss/ComfyUI-Custom-Scripts', comfyui_dir / 'custom_nodes')"
   ]
  },
  {
   "cell_type": "markdown",
   "id": "0161fc13-eade-40a5-91a3-ae01caa385f3",
   "metadata": {},
   "source": [
    "Animate diff"
   ]
  },
  {
   "cell_type": "code",
   "execution_count": null,
   "id": "81151c44-cc11-41a1-84b5-b326d33eaba4",
   "metadata": {},
   "outputs": [],
   "source": [
    "clone_repo('https://github.com/Kosinkadink/ComfyUI-AnimateDiff-Evolved', comfyui_dir / 'custom_nodes')"
   ]
  },
  {
   "cell_type": "markdown",
   "id": "06972d77-ac96-4882-b6a6-dfa8e68a71b2",
   "metadata": {
    "jp-MarkdownHeadingCollapsed": true
   },
   "source": [
    "### Models"
   ]
  },
  {
   "cell_type": "markdown",
   "id": "60d15dee-3803-4e92-94ba-2a91a695d379",
   "metadata": {},
   "source": [
    "Download models for AnimateDiff  \n",
    "https://github.com/Kosinkadink/ComfyUI-AnimateDiff-Evolved#how-to-use"
   ]
  },
  {
   "cell_type": "code",
   "execution_count": null,
   "id": "6ba62f2d-d6bb-4154-975b-1656291a3cf6",
   "metadata": {},
   "outputs": [],
   "source": [
    "import huggingface_hub\n",
    "\n",
    "repo_id='guoyww/animatediff'\n",
    "\n",
    "# Motion modules\n",
    "local_dir = comfyui_dir / 'custom_nodes/ComfyUI-AnimateDiff-Evolved/models'\n",
    "\n",
    "huggingface_hub.snapshot_download(\n",
    "    repo_id=repo_id,\n",
    "    local_dir=local_dir,\n",
    "    allow_patterns=\"mm_sd*.ckpt\"\n",
    ")\n",
    "\n",
    "# Motion Lora\n",
    "local_dir = comfyui_dir / 'custom_nodes/ComfyUI-AnimateDiff-Evolved/motion_lora'\n",
    "\n",
    "huggingface_hub.snapshot_download(\n",
    "    repo_id=repo_id,\n",
    "    local_dir=local_dir,\n",
    "    allow_patterns=\"v2_lora*.ckpt\"\n",
    ")"
   ]
  },
  {
   "cell_type": "markdown",
   "id": "250f9a00-4a5a-4dcd-b909-2b7cf45bdd81",
   "metadata": {},
   "source": [
    "We will need to install some nodes manually afterwards, see:  \n",
    "https://github.com/Kosinkadink/ComfyUI-AnimateDiff-Evolved#animatediff-for-comfyui"
   ]
  },
  {
   "cell_type": "markdown",
   "id": "e5367c21-3e64-43db-94e9-701638bae27c",
   "metadata": {},
   "source": [
    "Autoencoder used for SD"
   ]
  },
  {
   "cell_type": "code",
   "execution_count": null,
   "id": "06366093-0930-4b0f-8bc4-af5a36e2d839",
   "metadata": {},
   "outputs": [],
   "source": [
    "# SD models\n",
    "local_dir = sd_model_dir / 'VAE'\n",
    "\n",
    "# SD VAE\n",
    "repo_id='stabilityai/sd-vae-ft-mse-original'\n",
    "filename = 'vae-ft-mse-840000-ema-pruned.safetensors'\n",
    "huggingface_hub.hf_hub_download(\n",
    "    repo_id=repo_id,\n",
    "    filename=filename,\n",
    "    local_dir=local_dir\n",
    ")"
   ]
  },
  {
   "cell_type": "markdown",
   "id": "3844d80b-aea9-4ee5-9b32-40645f7eb52f",
   "metadata": {},
   "source": [
    "A nice / fun SD model, we download it in the default stable-diffusion model dir "
   ]
  },
  {
   "cell_type": "code",
   "execution_count": null,
   "id": "898c7828-d4f6-4081-b3a7-6d1400209882",
   "metadata": {},
   "outputs": [],
   "source": [
    "# https://civitai.com/models/7371/rev-animated\n",
    "repo_id='s6yx/ReV_Animated'\n",
    "local_dir = sd_model_dir / 'Stable-diffusion'\n",
    "filename = 'rev_1.2.2.safetensors'\n",
    "subfolder = 'rev_1.2.2'\n",
    "\n",
    "huggingface_hub.hf_hub_download(\n",
    "    repo_id=repo_id,\n",
    "    filename=filename,\n",
    "    subfolder=subfolder,\n",
    "    local_dir=local_dir\n",
    ")"
   ]
  },
  {
   "cell_type": "markdown",
   "id": "a5208959-fd1b-464a-b9c6-2c780fb23115",
   "metadata": {},
   "source": [
    "We move it to the root of the sd models dir, don't really have to but it's \"cleaner\" this way"
   ]
  },
  {
   "cell_type": "code",
   "execution_count": null,
   "id": "f911319e-1401-4cb3-bca2-f2fbc5fc4a5f",
   "metadata": {},
   "outputs": [],
   "source": [
    "!mv {local_dir}/{subfolder}/{filename} {local_dir}"
   ]
  },
  {
   "cell_type": "markdown",
   "id": "5d959efe-839e-4e90-bf5a-a28b82785a05",
   "metadata": {
    "jp-MarkdownHeadingCollapsed": true
   },
   "source": [
    "## 📍 Run"
   ]
  },
  {
   "cell_type": "markdown",
   "id": "81bfe93b-86ef-447d-9aa1-9ccf5e150249",
   "metadata": {},
   "source": [
    "You first need to start your `Ngrok` notebook on the side to be able to access the UI, default port is `8188`"
   ]
  },
  {
   "cell_type": "code",
   "execution_count": null,
   "id": "3d6e83f8-7368-4b22-9d50-eb135b046c4f",
   "metadata": {},
   "outputs": [],
   "source": [
    "os.chdir(comfyui_dir)"
   ]
  },
  {
   "cell_type": "code",
   "execution_count": null,
   "id": "6b7789a1-93ed-467f-80e1-e01fdd534ea5",
   "metadata": {},
   "outputs": [],
   "source": [
    "!python main.py"
   ]
  }
 ],
 "metadata": {
  "kernelspec": {
   "display_name": "Python 3 (ipykernel)",
   "language": "python",
   "name": "python3"
  },
  "language_info": {
   "codemirror_mode": {
    "name": "ipython",
    "version": 3
   },
   "file_extension": ".py",
   "mimetype": "text/x-python",
   "name": "python",
   "nbconvert_exporter": "python",
   "pygments_lexer": "ipython3",
   "version": "3.11.5"
  }
 },
 "nbformat": 4,
 "nbformat_minor": 5
}
