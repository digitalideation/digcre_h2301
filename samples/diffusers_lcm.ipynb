{
 "cells": [
  {
   "cell_type": "code",
   "execution_count": null,
   "id": "e5566d00-0f21-4bdb-961b-179fc77847f6",
   "metadata": {},
   "outputs": [],
   "source": [
    "!pip install accelerate transformers diffusers"
   ]
  },
  {
   "cell_type": "code",
   "execution_count": null,
   "id": "6eff4358-ea5e-4e70-afe6-27de88b554bc",
   "metadata": {},
   "outputs": [],
   "source": [
    "import transformers"
   ]
  },
  {
   "cell_type": "code",
   "execution_count": null,
   "id": "5ea4f6c0-5097-4f8f-8a8d-50fb3cc236ab",
   "metadata": {},
   "outputs": [],
   "source": [
    "from diffusers import DiffusionPipeline, LCMScheduler\n",
    "import torch\n",
    "\n",
    "model_id = \"stabilityai/stable-diffusion-xl-base-1.0\"\n",
    "lcm_lora_id = \"latent-consistency/lcm-lora-sdxl\"\n",
    "\n",
    "pipe = DiffusionPipeline.from_pretrained(model_id, variant=\"fp16\")\n",
    "\n",
    "pipe.load_lora_weights(lcm_lora_id)\n",
    "pipe.scheduler = LCMScheduler.from_config(pipe.scheduler.config)\n",
    "pipe.to(device=\"cuda\", dtype=torch.float16)\n",
    "\n",
    "prompt = \"close-up photography of old man standing in the rain at night, in a street lit by lamps, leica 35mm summilux\"\n",
    "images = pipe(\n",
    "    prompt=prompt,\n",
    "    num_inference_steps=4,\n",
    "    guidance_scale=1,\n",
    ").images[0]"
   ]
  },
  {
   "cell_type": "code",
   "execution_count": null,
   "id": "7a10e695-4f4b-4834-a140-113ae10daa64",
   "metadata": {},
   "outputs": [],
   "source": [
    "images"
   ]
  },
  {
   "cell_type": "code",
   "execution_count": null,
   "id": "1a213697-e747-4743-a37a-d6c805646177",
   "metadata": {},
   "outputs": [],
   "source": [
    "import time\n",
    "\n",
    "start_time = time.perf_counter()\n",
    "\n",
    "prompt = \"close-up photography of man standing in the rain at night, in a street lit by lamps, leica 35mm summilux\"\n",
    "images = pipe(\n",
    "    prompt=prompt,\n",
    "    width=512,\n",
    "    height=768,\n",
    "    num_inference_steps=4,\n",
    "    guidance_scale=1,\n",
    ").images[0]\n",
    "\n",
    "print(time.perf_counter() - start_time)"
   ]
  },
  {
   "cell_type": "code",
   "execution_count": null,
   "id": "e57978c2-1daa-4334-951c-e5d8c6e64b22",
   "metadata": {},
   "outputs": [],
   "source": [
    "images"
   ]
  },
  {
   "cell_type": "code",
   "execution_count": null,
   "id": "ed79c1de-f904-47ab-bf95-c15366e49f85",
   "metadata": {},
   "outputs": [],
   "source": [
    "images = []\n",
    "for num in range(8):\n",
    "    generator = torch.Generator(device=pipe.device).manual_seed(num)\n",
    "    image = pipe(\n",
    "        prompt=prompt,\n",
    "        num_inference_steps=4,\n",
    "        guidance_scale=1,\n",
    "        generator=generator,\n",
    "    ).images[0]\n",
    "    images.append(image)"
   ]
  },
  {
   "cell_type": "code",
   "execution_count": null,
   "id": "245c2722-eb49-44ec-9235-79a4b1d81f75",
   "metadata": {},
   "outputs": [],
   "source": [
    "from IPython.display import display\n",
    "for image in images:\n",
    "    display(image)"
   ]
  }
 ],
 "metadata": {
  "kernelspec": {
   "display_name": "Python [conda env:torch]",
   "language": "python",
   "name": "conda-env-torch-py"
  },
  "language_info": {
   "codemirror_mode": {
    "name": "ipython",
    "version": 3
   },
   "file_extension": ".py",
   "mimetype": "text/x-python",
   "name": "python",
   "nbconvert_exporter": "python",
   "pygments_lexer": "ipython3",
   "version": "3.11.5"
  }
 },
 "nbformat": 4,
 "nbformat_minor": 5
}
